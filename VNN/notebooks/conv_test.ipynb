{
 "cells": [
  {
   "cell_type": "code",
   "execution_count": 55,
   "id": "japanese-trailer",
   "metadata": {},
   "outputs": [],
   "source": [
    "import tensorflow as tf\n",
    "import tensorflow.sparse as sparse"
   ]
  },
  {
   "cell_type": "code",
   "execution_count": 126,
   "id": "green-impact",
   "metadata": {},
   "outputs": [
    {
     "name": "stdout",
     "output_type": "stream",
     "text": [
      "Object `tf.keras.layers.Pooling2D` not found.\n"
     ]
    }
   ],
   "source": [
    "tf.keras.layers.Pooling2D??"
   ]
  },
  {
   "cell_type": "code",
   "execution_count": 13,
   "id": "phantom-flash",
   "metadata": {},
   "outputs": [
    {
     "data": {
      "text/plain": [
       "<tf.Tensor: shape=(3, 3), dtype=float32, numpy=\n",
       "array([[ 0.,  2.,  4.],\n",
       "       [ 6.,  8., 10.],\n",
       "       [12., 14., 16.]], dtype=float32)>"
      ]
     },
     "execution_count": 13,
     "metadata": {},
     "output_type": "execute_result"
    }
   ],
   "source": [
    "x = tf.reshape(tf.range([3*3*2], dtype=tf.float32), shape=(3,3,2))\n",
    "x[...,0]"
   ]
  },
  {
   "cell_type": "code",
   "execution_count": 10,
   "id": "going-component",
   "metadata": {
    "scrolled": true
   },
   "outputs": [
    {
     "data": {
      "text/plain": [
       "<tf.Tensor: shape=(2, 2), dtype=float32, numpy=\n",
       "array([[1., 3.],\n",
       "       [5., 7.]], dtype=float32)>"
      ]
     },
     "execution_count": 10,
     "metadata": {},
     "output_type": "execute_result"
    }
   ],
   "source": [
    "kernel = tf.constant([[[1,2], [3,4]], [[5,6], [7,8]]], dtype=tf.float32)\n",
    "kernel[...,0]"
   ]
  },
  {
   "cell_type": "code",
   "execution_count": 100,
   "id": "obvious-orlando",
   "metadata": {},
   "outputs": [
    {
     "data": {
      "text/plain": [
       "<tf.Tensor: shape=(2,), dtype=int32, numpy=array([2, 2])>"
      ]
     },
     "execution_count": 100,
     "metadata": {},
     "output_type": "execute_result"
    }
   ],
   "source": [
    "def get_new_dim(x_dims, kernel_dims, strides):\n",
    "    return ((x_dims - kernel_dims) // strides) + 1\n",
    "strides = 1\n",
    "result_shape = tf.concat([\n",
    "    x.shape[:-3],\n",
    "    get_new_dim(tf.constant(x.shape[-3:-1]), tf.constant(kernel.shape[-3:-1]), strides)\n",
    "], 0)\n",
    "# tf.tensordot(map1, kernel, axis=)\n",
    "result_shape"
   ]
  },
  {
   "cell_type": "code",
   "execution_count": 26,
   "id": "rapid-bones",
   "metadata": {},
   "outputs": [
    {
     "data": {
      "text/plain": [
       "<tf.Tensor: shape=(9, 2), dtype=float32, numpy=\n",
       "array([[ 0.,  1.],\n",
       "       [ 2.,  3.],\n",
       "       [ 4.,  5.],\n",
       "       [ 6.,  7.],\n",
       "       [ 8.,  9.],\n",
       "       [10., 11.],\n",
       "       [12., 13.],\n",
       "       [14., 15.],\n",
       "       [16., 17.]], dtype=float32)>"
      ]
     },
     "execution_count": 26,
     "metadata": {},
     "output_type": "execute_result"
    }
   ],
   "source": [
    "x_tansf_shape = tf.concat([x.shape[:-3], [x.shape[-3]*x.shape[-2]], x.shape[-1:]], 0)\n",
    "x_transf = tf.reshape(x, shape=x_tansf_shape)\n",
    "x_transf"
   ]
  },
  {
   "cell_type": "code",
   "execution_count": 60,
   "id": "honey-rebate",
   "metadata": {},
   "outputs": [
    {
     "data": {
      "text/plain": [
       "<tf.Tensor: shape=(1,), dtype=int32, numpy=array([4])>"
      ]
     },
     "execution_count": 60,
     "metadata": {},
     "output_type": "execute_result"
    }
   ],
   "source": [
    "result_flattened_shape = tf.concat([result_shape[:-2], [result_shape[-2]*result_shape[-1]]], 0)\n",
    "result_flattened_shape"
   ]
  },
  {
   "cell_type": "code",
   "execution_count": 61,
   "id": "russian-recall",
   "metadata": {},
   "outputs": [
    {
     "data": {
      "text/plain": [
       "<tf.Tensor: shape=(3,), dtype=int64, numpy=array([4, 9, 2], dtype=int64)>"
      ]
     },
     "execution_count": 61,
     "metadata": {},
     "output_type": "execute_result"
    }
   ],
   "source": [
    "sparsed_shape = tf.concat([result_flattened_shape[-1:], x_tansf_shape[-2:-1], kernel.shape[-1:]], 0)\n",
    "sparsed_shape = tf.cast(sparsed_shape, tf.int64)\n",
    "sparsed_shape"
   ]
  },
  {
   "cell_type": "code",
   "execution_count": 112,
   "id": "clear-morocco",
   "metadata": {},
   "outputs": [],
   "source": [
    "def iterate_sparsed_indices(sparsed_shape, input_shape, kernel_shape, result_shape, strides):\n",
    "    for i in range(sparsed_shape[-3]):\n",
    "        for j in range(sparsed_shape[-2]):\n",
    "            for k in range(sparsed_shape[-1]):\n",
    "                row_num = i // result_shape[-1]\n",
    "                col_num = i % result_shape[-1]\n",
    "                offset = row_num * strides * input_shape[-2] + col_num * strides\n",
    "                if j >= offset and ((j - offset) // input_shape[-2]) < kernel_shape[-2] and ((j - offset) % input_shape[-2]) < kernel_shape[-2]:\n",
    "                    yield [i, j, k]\n",
    "                continue\n",
    "\n",
    "# sparsed_indices = [\n",
    "#     [i, j, k]\n",
    "#     for i in range(result_flattened_shape[-1])\n",
    "#     for j in range(x_tansf_shape[-2])\n",
    "#     for k in range(kernel.shape[-1])\n",
    "#     if j >= i * strides and ((j - i * strides) // x.shape[-2]) < kernel.shape[-2] and ((j - i * strides) % x.shape[-2]) < kernel.shape[-2]\n",
    "# ]\n",
    "sparsed_indices = list(iterate_sparsed_indices(tf.cast(sparsed_shape, tf.int32), x.shape, kernel.shape, result_shape, strides))\n",
    "# sparsed_indices"
   ]
  },
  {
   "cell_type": "code",
   "execution_count": 123,
   "id": "standing-system",
   "metadata": {},
   "outputs": [],
   "source": [
    "sparsed_values = tf.reshape(kernel, [-1])\n",
    "sparsed_values = tf.tile(sparsed_values, sparsed_shape[:1])"
   ]
  },
  {
   "cell_type": "code",
   "execution_count": 113,
   "id": "everyday-nickel",
   "metadata": {
    "scrolled": true
   },
   "outputs": [
    {
     "data": {
      "text/plain": [
       "<tf.Tensor: shape=(4, 9), dtype=float32, numpy=\n",
       "array([[2., 4., 0., 6., 8., 0., 0., 0., 0.],\n",
       "       [0., 2., 4., 0., 6., 8., 0., 0., 0.],\n",
       "       [0., 0., 0., 2., 4., 0., 6., 8., 0.],\n",
       "       [0., 0., 0., 0., 2., 4., 0., 6., 8.]], dtype=float32)>"
      ]
     },
     "execution_count": 113,
     "metadata": {},
     "output_type": "execute_result"
    }
   ],
   "source": [
    "sparsed_kernel = sparse.SparseTensor(sparsed_indices, sparsed_values, sparsed_shape)\n",
    "sparse.to_dense(sparsed_kernel)[...,1]"
   ]
  },
  {
   "cell_type": "code",
   "execution_count": 77,
   "id": "isolated-client",
   "metadata": {},
   "outputs": [
    {
     "data": {
      "text/plain": [
       "<tf.Tensor: shape=(9, 2), dtype=float32, numpy=\n",
       "array([[ 0.,  1.],\n",
       "       [ 2.,  3.],\n",
       "       [ 4.,  5.],\n",
       "       [ 6.,  7.],\n",
       "       [ 8.,  9.],\n",
       "       [10., 11.],\n",
       "       [12., 13.],\n",
       "       [14., 15.],\n",
       "       [16., 17.]], dtype=float32)>"
      ]
     },
     "execution_count": 77,
     "metadata": {},
     "output_type": "execute_result"
    }
   ],
   "source": [
    "x_transf"
   ]
  },
  {
   "cell_type": "code",
   "execution_count": 114,
   "id": "criminal-jewel",
   "metadata": {},
   "outputs": [
    {
     "name": "stdout",
     "output_type": "stream",
     "text": [
      "(4, 9, 2)\n",
      "(9, 2)\n"
     ]
    },
    {
     "data": {
      "text/plain": [
       "<tf.Tensor: shape=(4,), dtype=float32, numpy=array([220., 292., 436., 508.], dtype=float32)>"
      ]
     },
     "execution_count": 114,
     "metadata": {},
     "output_type": "execute_result"
    }
   ],
   "source": [
    "print(sparsed_kernel.shape)\n",
    "print(x_transf.shape)\n",
    "tf.tensordot(sparse.to_dense(sparsed_kernel), x_transf, [[1, 2], [0, 1]])"
   ]
  }
 ],
 "metadata": {
  "kernelspec": {
   "display_name": "Python 3",
   "language": "python",
   "name": "python3"
  },
  "language_info": {
   "codemirror_mode": {
    "name": "ipython",
    "version": 3
   },
   "file_extension": ".py",
   "mimetype": "text/x-python",
   "name": "python",
   "nbconvert_exporter": "python",
   "pygments_lexer": "ipython3",
   "version": "3.8.5"
  }
 },
 "nbformat": 4,
 "nbformat_minor": 5
}
