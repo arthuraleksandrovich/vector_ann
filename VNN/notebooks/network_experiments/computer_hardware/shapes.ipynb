{
 "cells": [
  {
   "cell_type": "code",
   "execution_count": 2,
   "id": "completed-groove",
   "metadata": {},
   "outputs": [],
   "source": [
    "import matplotlib.pyplot as plt\n",
    "import tensorflow as tf\n",
    "from tensorflow import keras\n",
    "from tensorflow.keras import layers\n",
    "\n",
    "%matplotlib inline\n",
    "plt.rcParams['figure.figsize'] = [10, 10]\n",
    "\n",
    "import os\n",
    "import sys\n",
    "import inspect\n",
    "module_path = os.path.abspath(os.path.join('../../..'))\n",
    "if module_path not in sys.path:\n",
    "    sys.path.append(module_path)\n",
    "\n",
    "from dataset.dataset import get_test_datasets, get_validation_datasets, get_dataset_shapes\n",
    "from experiment.model import get_scalar_model, get_vector_model\n",
    "from experiment.learning import validate_model, validate_model_multiple, test_model, test_model_multiple"
   ]
  },
  {
   "cell_type": "code",
   "execution_count": 3,
   "id": "curious-macro",
   "metadata": {},
   "outputs": [
    {
     "data": {
      "text/plain": [
       "([6], [1])"
      ]
     },
     "execution_count": 3,
     "metadata": {},
     "output_type": "execute_result"
    }
   ],
   "source": [
    "train_dataset, test_dataset = get_test_datasets('computer_hardware', random_seed=200, feature_range=(0,1))\n",
    "datasets_generator_fun = lambda: get_validation_datasets('computer_hardware', random_seed=200, feature_range=(0,1))\n",
    "dataset_shapes = get_dataset_shapes('computer_hardware')\n",
    "\n",
    "dataset_shapes"
   ]
  },
  {
   "cell_type": "code",
   "execution_count": 4,
   "id": "minor-collection",
   "metadata": {},
   "outputs": [
    {
     "name": "stdout",
     "output_type": "stream",
     "text": [
      "4.75\n",
      "3.50\n",
      "2.25\n"
     ]
    }
   ],
   "source": [
    "# Shape\n",
    "def get_dims(x, i, o):\n",
    "    return i - x * (i - o) / 4\n",
    "\n",
    "for x in range(1,4):\n",
    "    print(f'{get_dims(x, dataset_shapes[0][0], dataset_shapes[1][0]):.2f}')"
   ]
  },
  {
   "cell_type": "markdown",
   "id": "bizarre-miniature",
   "metadata": {},
   "source": [
    "### S(X,X,X)"
   ]
  },
  {
   "cell_type": "code",
   "execution_count": 5,
   "id": "charged-simple",
   "metadata": {
    "scrolled": true
   },
   "outputs": [
    {
     "data": {
      "image/png": "[encoded data removed]",
      "text/plain": [
       "<Figure size 720x720 with 1 Axes>"
      ]
     },
     "metadata": {
      "needs_background": "light"
     },
     "output_type": "display_data"
    },
    {
     "name": "stdout",
     "output_type": "stream",
     "text": [
      "Elapsed training time: 2.38413 sec\n",
      "Model: \"model\"\n",
      "_________________________________________________________________\n",
      "Layer (type)                 Output Shape              Param #   \n",
      "=================================================================\n",
      "input_1 (InputLayer)         [(None, 6)]               0         \n",
      "_________________________________________________________________\n",
      "dense (Dense)                (None, 5)                 35        \n",
      "_________________________________________________________________\n",
      "dense_1 (Dense)              (None, 4)                 24        \n",
      "_________________________________________________________________\n",
      "dense_2 (Dense)              (None, 2)                 10        \n",
      "_________________________________________________________________\n",
      "dense_3 (Dense)              (None, 1)                 3         \n",
      "=================================================================\n",
      "Total params: 72\n",
      "Trainable params: 72\n",
      "Non-trainable params: 0\n",
      "_________________________________________________________________\n"
     ]
    }
   ],
   "source": [
    "model_fun = lambda: get_scalar_model(dataset_shapes, hidden_layer_units=[5,4,2], activation='relu', output_activation=None, \\\n",
    "    kernel_initializer='random_normal', bias_initializer='random_normal', \\\n",
    "    optimizer=keras.optimizers.Adam(), loss=keras.losses.MeanSquaredError(), metrics=[keras.metrics.MeanSquaredError()])\n",
    "\n",
    "test_model(model_fun(), train_dataset, test_dataset, epochs=1, loss_name=\"mean_squared_error\", measure_name=\"val_mean_squared_error\", \\\n",
    "    print_summary=True)"
   ]
  },
  {
   "cell_type": "markdown",
   "id": "special-grass",
   "metadata": {},
   "source": [
    "### V1(X):U(2)"
   ]
  },
  {
   "cell_type": "code",
   "execution_count": 9,
   "id": "saving-karma",
   "metadata": {
    "scrolled": true
   },
   "outputs": [
    {
     "name": "stdout",
     "output_type": "stream",
     "text": [
      "WARNING:tensorflow:5 out of the last 9 calls to <function Model.make_test_function.<locals>.test_function at 0x000001FCACF01C10> triggered tf.function retracing. Tracing is expensive and the excessive number of tracings could be due to (1) creating @tf.function repeatedly in a loop, (2) passing tensors with different shapes, (3) passing Python objects instead of tensors. For (1), please define your @tf.function outside of the loop. For (2), @tf.function has experimental_relax_shapes=True option that relaxes argument shapes that can avoid unnecessary retracing. For (3), please refer to https://www.tensorflow.org/guide/function#controlling_retracing and https://www.tensorflow.org/api_docs/python/tf/function for  more details.\n"
     ]
    },
    {
     "data": {
      "image/png": "[encoded data removed]",
      "text/plain": [
       "<Figure size 720x720 with 1 Axes>"
      ]
     },
     "metadata": {
      "needs_background": "light"
     },
     "output_type": "display_data"
    },
    {
     "name": "stdout",
     "output_type": "stream",
     "text": [
      "Elapsed training time: 0.72690 sec\n",
      "Model: \"model_4\"\n",
      "_________________________________________________________________\n",
      "Layer (type)                 Output Shape              Param #   \n",
      "=================================================================\n",
      "input_5 (InputLayer)         [(None, 6)]               0         \n",
      "_________________________________________________________________\n",
      "v_input_6 (VInput)           (None, 7, 3)              21        \n",
      "_________________________________________________________________\n",
      "v_fractal_6 (VFractal)       (None, 4, 1)              55        \n",
      "_________________________________________________________________\n",
      "v_output_7 (VOutput)         (None, 1)                 0         \n",
      "=================================================================\n",
      "Total params: 76\n",
      "Trainable params: 76\n",
      "Non-trainable params: 0\n",
      "_________________________________________________________________\n"
     ]
    }
   ],
   "source": [
    "model_fun = lambda: get_vector_model(dataset_shapes, fractal_depth=1, hidden_layer_units=(3,), inner_hidden_layer_units=(2,), \\\n",
    "    activation='relu', output_activation=None, \\\n",
    "    weight_type=\"unique\", weight_initializer='random_normal', \\\n",
    "    optimizer=keras.optimizers.Adam(), loss=keras.losses.MeanSquaredError(), metrics=[keras.metrics.MeanSquaredError()])\n",
    "\n",
    "test_model(model_fun(), train_dataset, test_dataset, epochs=1, loss_name=\"mean_squared_error\", measure_name=\"val_mean_squared_error\", \\\n",
    "    print_summary=True)"
   ]
  }
 ],
 "metadata": {
  "kernelspec": {
   "display_name": "Python 3",
   "language": "python",
   "name": "python3"
  },
  "language_info": {
   "codemirror_mode": {
    "name": "ipython",
    "version": 3
   },
   "file_extension": ".py",
   "mimetype": "text/x-python",
   "name": "python",
   "nbconvert_exporter": "python",
   "pygments_lexer": "ipython3",
   "version": "3.8.5"
  }
 },
 "nbformat": 4,
 "nbformat_minor": 5
}
