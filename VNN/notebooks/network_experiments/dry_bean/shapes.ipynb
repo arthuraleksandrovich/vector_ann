{
 "cells": [
  {
   "cell_type": "code",
   "execution_count": 1,
   "id": "textile-arrest",
   "metadata": {},
   "outputs": [],
   "source": [
    "import matplotlib.pyplot as plt\n",
    "import tensorflow as tf\n",
    "from tensorflow import keras\n",
    "from tensorflow.keras import layers\n",
    "\n",
    "%matplotlib inline\n",
    "plt.rcParams['figure.figsize'] = [10, 10]\n",
    "\n",
    "import os\n",
    "import sys\n",
    "import inspect\n",
    "module_path = os.path.abspath(os.path.join('../../..'))\n",
    "if module_path not in sys.path:\n",
    "    sys.path.append(module_path)\n",
    "\n",
    "from dataset.dataset import get_test_datasets, get_validation_datasets, get_dataset_shapes\n",
    "from experiment.model import get_scalar_model, get_vector_model\n",
    "from experiment.learning import validate_model, validate_model_multiple, test_model, test_model_multiple"
   ]
  },
  {
   "cell_type": "code",
   "execution_count": 2,
   "id": "painful-taylor",
   "metadata": {},
   "outputs": [
    {
     "data": {
      "text/plain": [
       "([16], [7])"
      ]
     },
     "execution_count": 2,
     "metadata": {},
     "output_type": "execute_result"
    }
   ],
   "source": [
    "train_dataset, test_dataset = get_test_datasets('dry_bean', random_seed=200, feature_range=(0,1))\n",
    "datasets_generator_fun = lambda: get_validation_datasets('dry_bean', random_seed=200, feature_range=(0,1))\n",
    "dataset_shapes = get_dataset_shapes('dry_bean')\n",
    "num_tries = 15\n",
    "\n",
    "dataset_shapes"
   ]
  },
  {
   "cell_type": "code",
   "execution_count": 3,
   "id": "weekly-essence",
   "metadata": {},
   "outputs": [
    {
     "name": "stdout",
     "output_type": "stream",
     "text": [
      "13.75\n",
      "11.50\n",
      "9.25\n"
     ]
    }
   ],
   "source": [
    "# Shape\n",
    "def get_dims(x, i, o):\n",
    "    return i - x * (i - o) / 4\n",
    "\n",
    "for x in range(1,4):\n",
    "    print(f'{get_dims(x, dataset_shapes[0][0], dataset_shapes[1][0]):.2f}')"
   ]
  },
  {
   "cell_type": "markdown",
   "id": "manufactured-hungary",
   "metadata": {},
   "source": [
    "### S(X,X,X)"
   ]
  },
  {
   "cell_type": "code",
   "execution_count": 4,
   "id": "virtual-updating",
   "metadata": {
    "scrolled": true
   },
   "outputs": [
    {
     "data": {
      "image/png": "[encoded data removed]",
      "text/plain": [
       "<Figure size 720x720 with 1 Axes>"
      ]
     },
     "metadata": {
      "needs_background": "light"
     },
     "output_type": "display_data"
    },
    {
     "name": "stdout",
     "output_type": "stream",
     "text": [
      "Elapsed training time: 2.37124 sec\n",
      "Model: \"model\"\n",
      "_________________________________________________________________\n",
      "Layer (type)                 Output Shape              Param #   \n",
      "=================================================================\n",
      "input_1 (InputLayer)         [(None, 16)]              0         \n",
      "_________________________________________________________________\n",
      "dense (Dense)                (None, 14)                238       \n",
      "_________________________________________________________________\n",
      "dense_1 (Dense)              (None, 12)                180       \n",
      "_________________________________________________________________\n",
      "dense_2 (Dense)              (None, 9)                 117       \n",
      "_________________________________________________________________\n",
      "dense_3 (Dense)              (None, 7)                 70        \n",
      "=================================================================\n",
      "Total params: 605\n",
      "Trainable params: 605\n",
      "Non-trainable params: 0\n",
      "_________________________________________________________________\n"
     ]
    }
   ],
   "source": [
    "model_fun = lambda: get_scalar_model(dataset_shapes, hidden_layer_units=[14,12,9], activation='relu', output_activation=None, \\\n",
    "    kernel_initializer='random_normal', bias_initializer='random_normal', \\\n",
    "    optimizer=keras.optimizers.Adam(), loss=keras.losses.MeanSquaredError(), metrics=[keras.metrics.MeanSquaredError()])\n",
    "\n",
    "test_model(model_fun(), train_dataset, test_dataset, epochs=1, loss_name=\"mean_squared_error\", measure_name=\"val_mean_squared_error\", \\\n",
    "    print_summary=True)"
   ]
  },
  {
   "cell_type": "markdown",
   "id": "serious-porter",
   "metadata": {},
   "source": [
    "### V1(X):U(2)"
   ]
  },
  {
   "cell_type": "code",
   "execution_count": 8,
   "id": "wound-kitty",
   "metadata": {
    "scrolled": true
   },
   "outputs": [
    {
     "data": {
      "image/png": "[encoded data removed]",
      "text/plain": [
       "<Figure size 720x720 with 1 Axes>"
      ]
     },
     "metadata": {
      "needs_background": "light"
     },
     "output_type": "display_data"
    },
    {
     "name": "stdout",
     "output_type": "stream",
     "text": [
      "Elapsed training time: 1.60985 sec\n",
      "Model: \"model_4\"\n",
      "_________________________________________________________________\n",
      "Layer (type)                 Output Shape              Param #   \n",
      "=================================================================\n",
      "input_5 (InputLayer)         [(None, 16)]              0         \n",
      "_________________________________________________________________\n",
      "v_input_6 (VInput)           (None, 17, 8)             136       \n",
      "_________________________________________________________________\n",
      "v_fractal_6 (VFractal)       (None, 9, 7)              503       \n",
      "_________________________________________________________________\n",
      "v_output_7 (VOutput)         (None, 7)                 0         \n",
      "=================================================================\n",
      "Total params: 639\n",
      "Trainable params: 639\n",
      "Non-trainable params: 0\n",
      "_________________________________________________________________\n"
     ]
    }
   ],
   "source": [
    "model_fun = lambda: get_vector_model(dataset_shapes, fractal_depth=1, hidden_layer_units=(8,), inner_hidden_layer_units=(2,), \\\n",
    "    activation='relu', output_activation=None, \\\n",
    "    weight_type=\"unique\", weight_initializer='random_normal', \\\n",
    "    optimizer=keras.optimizers.Adam(), loss=keras.losses.MeanSquaredError(), metrics=[keras.metrics.MeanSquaredError()])\n",
    "\n",
    "test_model(model_fun(), train_dataset, test_dataset, epochs=1, loss_name=\"mean_squared_error\", measure_name=\"val_mean_squared_error\", \\\n",
    "    print_summary=True)"
   ]
  },
  {
   "cell_type": "markdown",
   "id": "related-orlando",
   "metadata": {},
   "source": [
    "### V1(X):U(3)"
   ]
  },
  {
   "cell_type": "code",
   "execution_count": 11,
   "id": "driven-roommate",
   "metadata": {
    "scrolled": true
   },
   "outputs": [
    {
     "data": {
      "image/png": "[encoded data removed]",
      "text/plain": [
       "<Figure size 720x720 with 1 Axes>"
      ]
     },
     "metadata": {
      "needs_background": "light"
     },
     "output_type": "display_data"
    },
    {
     "name": "stdout",
     "output_type": "stream",
     "text": [
      "Elapsed training time: 1.62390 sec\n",
      "Model: \"model_7\"\n",
      "_________________________________________________________________\n",
      "Layer (type)                 Output Shape              Param #   \n",
      "=================================================================\n",
      "input_8 (InputLayer)         [(None, 16)]              0         \n",
      "_________________________________________________________________\n",
      "v_input_12 (VInput)          (None, 17, 6)             102       \n",
      "_________________________________________________________________\n",
      "v_fractal_12 (VFractal)      (None, 7, 7)              523       \n",
      "_________________________________________________________________\n",
      "v_output_13 (VOutput)        (None, 7)                 0         \n",
      "=================================================================\n",
      "Total params: 625\n",
      "Trainable params: 625\n",
      "Non-trainable params: 0\n",
      "_________________________________________________________________\n"
     ]
    }
   ],
   "source": [
    "model_fun = lambda: get_vector_model(dataset_shapes, fractal_depth=1, hidden_layer_units=(6,), inner_hidden_layer_units=(3,), \\\n",
    "    activation='relu', output_activation=None, \\\n",
    "    weight_type=\"unique\", weight_initializer='random_normal', \\\n",
    "    optimizer=keras.optimizers.Adam(), loss=keras.losses.MeanSquaredError(), metrics=[keras.metrics.MeanSquaredError()])\n",
    "\n",
    "test_model(model_fun(), train_dataset, test_dataset, epochs=1, loss_name=\"mean_squared_error\", measure_name=\"val_mean_squared_error\", \\\n",
    "    print_summary=True)"
   ]
  },
  {
   "cell_type": "markdown",
   "id": "reserved-reception",
   "metadata": {},
   "source": [
    "### V1(X):U(4)"
   ]
  },
  {
   "cell_type": "code",
   "execution_count": 14,
   "id": "native-sullivan",
   "metadata": {
    "scrolled": true
   },
   "outputs": [
    {
     "data": {
      "image/png": "[encoded data removed]",
      "text/plain": [
       "<Figure size 720x720 with 1 Axes>"
      ]
     },
     "metadata": {
      "needs_background": "light"
     },
     "output_type": "display_data"
    },
    {
     "name": "stdout",
     "output_type": "stream",
     "text": [
      "Elapsed training time: 1.70466 sec\n",
      "Model: \"model_10\"\n",
      "_________________________________________________________________\n",
      "Layer (type)                 Output Shape              Param #   \n",
      "=================================================================\n",
      "input_11 (InputLayer)        [(None, 16)]              0         \n",
      "_________________________________________________________________\n",
      "v_input_18 (VInput)          (None, 17, 5)             85        \n",
      "_________________________________________________________________\n",
      "v_fractal_18 (VFractal)      (None, 6, 7)              557       \n",
      "_________________________________________________________________\n",
      "v_output_19 (VOutput)        (None, 7)                 0         \n",
      "=================================================================\n",
      "Total params: 642\n",
      "Trainable params: 642\n",
      "Non-trainable params: 0\n",
      "_________________________________________________________________\n"
     ]
    }
   ],
   "source": [
    "model_fun = lambda: get_vector_model(dataset_shapes, fractal_depth=1, hidden_layer_units=(5,), inner_hidden_layer_units=(4,), \\\n",
    "    activation='relu', output_activation=None, \\\n",
    "    weight_type=\"unique\", weight_initializer='random_normal', \\\n",
    "    optimizer=keras.optimizers.Adam(), loss=keras.losses.MeanSquaredError(), metrics=[keras.metrics.MeanSquaredError()])\n",
    "\n",
    "test_model(model_fun(), train_dataset, test_dataset, epochs=1, loss_name=\"mean_squared_error\", measure_name=\"val_mean_squared_error\", \\\n",
    "    print_summary=True)"
   ]
  },
  {
   "cell_type": "markdown",
   "id": "mature-surrey",
   "metadata": {},
   "source": [
    "### V1(X):U(5)"
   ]
  },
  {
   "cell_type": "code",
   "execution_count": 16,
   "id": "serial-living",
   "metadata": {},
   "outputs": [
    {
     "data": {
      "image/png": "[encoded data removed]",
      "text/plain": [
       "<Figure size 720x720 with 1 Axes>"
      ]
     },
     "metadata": {
      "needs_background": "light"
     },
     "output_type": "display_data"
    },
    {
     "name": "stdout",
     "output_type": "stream",
     "text": [
      "Elapsed training time: 1.74130 sec\n",
      "Model: \"model_12\"\n",
      "_________________________________________________________________\n",
      "Layer (type)                 Output Shape              Param #   \n",
      "=================================================================\n",
      "input_13 (InputLayer)        [(None, 16)]              0         \n",
      "_________________________________________________________________\n",
      "v_input_22 (VInput)          (None, 17, 4)             68        \n",
      "_________________________________________________________________\n",
      "v_fractal_22 (VFractal)      (None, 5, 7)              543       \n",
      "_________________________________________________________________\n",
      "v_output_23 (VOutput)        (None, 7)                 0         \n",
      "=================================================================\n",
      "Total params: 611\n",
      "Trainable params: 611\n",
      "Non-trainable params: 0\n",
      "_________________________________________________________________\n"
     ]
    }
   ],
   "source": [
    "model_fun = lambda: get_vector_model(dataset_shapes, fractal_depth=1, hidden_layer_units=(4,), inner_hidden_layer_units=(5,), \\\n",
    "    activation='relu', output_activation=None, \\\n",
    "    weight_type=\"unique\", weight_initializer='random_normal', \\\n",
    "    optimizer=keras.optimizers.Adam(), loss=keras.losses.MeanSquaredError(), metrics=[keras.metrics.MeanSquaredError()])\n",
    "\n",
    "test_model(model_fun(), train_dataset, test_dataset, epochs=1, loss_name=\"mean_squared_error\", measure_name=\"val_mean_squared_error\", \\\n",
    "    print_summary=True)"
   ]
  }
 ],
 "metadata": {
  "kernelspec": {
   "display_name": "Python 3",
   "language": "python",
   "name": "python3"
  },
  "language_info": {
   "codemirror_mode": {
    "name": "ipython",
    "version": 3
   },
   "file_extension": ".py",
   "mimetype": "text/x-python",
   "name": "python",
   "nbconvert_exporter": "python",
   "pygments_lexer": "ipython3",
   "version": "3.8.5"
  }
 },
 "nbformat": 4,
 "nbformat_minor": 5
}
