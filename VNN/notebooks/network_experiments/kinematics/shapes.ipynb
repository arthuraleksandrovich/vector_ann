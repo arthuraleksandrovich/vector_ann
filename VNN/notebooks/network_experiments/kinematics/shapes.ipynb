{
 "cells": [
  {
   "cell_type": "code",
   "execution_count": 1,
   "id": "textile-arrest",
   "metadata": {},
   "outputs": [],
   "source": [
    "import matplotlib.pyplot as plt\n",
    "import tensorflow as tf\n",
    "from tensorflow import keras\n",
    "from tensorflow.keras import layers\n",
    "\n",
    "%matplotlib inline\n",
    "plt.rcParams['figure.figsize'] = [10, 10]\n",
    "\n",
    "import os\n",
    "import sys\n",
    "import inspect\n",
    "module_path = os.path.abspath(os.path.join('../../..'))\n",
    "if module_path not in sys.path:\n",
    "    sys.path.append(module_path)\n",
    "\n",
    "from dataset.dataset import get_test_datasets, get_validation_datasets, get_dataset_shapes\n",
    "from experiment.model import get_scalar_model, get_vector_model\n",
    "from experiment.learning import validate_model, validate_model_multiple, test_model, test_model_multiple"
   ]
  },
  {
   "cell_type": "code",
   "execution_count": 2,
   "id": "painful-taylor",
   "metadata": {},
   "outputs": [
    {
     "data": {
      "text/plain": [
       "([8], [1])"
      ]
     },
     "execution_count": 2,
     "metadata": {},
     "output_type": "execute_result"
    }
   ],
   "source": [
    "train_dataset, test_dataset = get_test_datasets('kinematics', random_seed=200, feature_range=(0,1))\n",
    "datasets_generator_fun = lambda: get_validation_datasets('kinematics', random_seed=200, feature_range=(0,1))\n",
    "dataset_shapes = get_dataset_shapes('kinematics')\n",
    "num_tries = 15\n",
    "\n",
    "dataset_shapes"
   ]
  },
  {
   "cell_type": "code",
   "execution_count": 3,
   "id": "weekly-essence",
   "metadata": {},
   "outputs": [
    {
     "name": "stdout",
     "output_type": "stream",
     "text": [
      "6.25\n",
      "4.50\n",
      "2.75\n"
     ]
    }
   ],
   "source": [
    "# Shape\n",
    "def get_dims(x, i, o):\n",
    "    return i - x * (i - o) / 4\n",
    "\n",
    "for x in range(1,4):\n",
    "    print(f'{get_dims(x, dataset_shapes[0][0], dataset_shapes[1][0]):.2f}')"
   ]
  },
  {
   "cell_type": "markdown",
   "id": "manufactured-hungary",
   "metadata": {},
   "source": [
    "### S(X,X,X)"
   ]
  },
  {
   "cell_type": "code",
   "execution_count": 4,
   "id": "virtual-updating",
   "metadata": {
    "scrolled": true
   },
   "outputs": [
    {
     "data": {
      "image/png": "[encoded data removed]",
      "text/plain": [
       "<Figure size 720x720 with 1 Axes>"
      ]
     },
     "metadata": {
      "needs_background": "light"
     },
     "output_type": "display_data"
    },
    {
     "name": "stdout",
     "output_type": "stream",
     "text": [
      "Elapsed training time: 5.95652 sec\n",
      "Model: \"model\"\n",
      "_________________________________________________________________\n",
      "Layer (type)                 Output Shape              Param #   \n",
      "=================================================================\n",
      "input_1 (InputLayer)         [(None, 8)]               0         \n",
      "_________________________________________________________________\n",
      "dense (Dense)                (None, 6)                 54        \n",
      "_________________________________________________________________\n",
      "dense_1 (Dense)              (None, 5)                 35        \n",
      "_________________________________________________________________\n",
      "dense_2 (Dense)              (None, 3)                 18        \n",
      "_________________________________________________________________\n",
      "dense_3 (Dense)              (None, 1)                 4         \n",
      "=================================================================\n",
      "Total params: 111\n",
      "Trainable params: 111\n",
      "Non-trainable params: 0\n",
      "_________________________________________________________________\n"
     ]
    }
   ],
   "source": [
    "model_fun = lambda: get_scalar_model(dataset_shapes, hidden_layer_units=[6,5,3], activation='relu', output_activation=None, \\\n",
    "    kernel_initializer='random_normal', bias_initializer='random_normal', \\\n",
    "    optimizer=keras.optimizers.Adam(), loss=keras.losses.MeanSquaredError(), metrics=[keras.metrics.MeanSquaredError()])\n",
    "\n",
    "test_model(model_fun(), train_dataset, test_dataset, epochs=1, loss_name=\"mean_squared_error\", measure_name=\"val_mean_squared_error\", \\\n",
    "    print_summary=True)"
   ]
  },
  {
   "cell_type": "markdown",
   "id": "serious-porter",
   "metadata": {},
   "source": [
    "### V1(X):U(2)"
   ]
  },
  {
   "cell_type": "code",
   "execution_count": 8,
   "id": "silver-bandwidth",
   "metadata": {
    "scrolled": true
   },
   "outputs": [
    {
     "data": {
      "image/png": "[encoded data removed]",
      "text/plain": [
       "<Figure size 720x720 with 1 Axes>"
      ]
     },
     "metadata": {
      "needs_background": "light"
     },
     "output_type": "display_data"
    },
    {
     "name": "stdout",
     "output_type": "stream",
     "text": [
      "Elapsed training time: 3.57528 sec\n",
      "Model: \"model_4\"\n",
      "_________________________________________________________________\n",
      "Layer (type)                 Output Shape              Param #   \n",
      "=================================================================\n",
      "input_5 (InputLayer)         [(None, 8)]               0         \n",
      "_________________________________________________________________\n",
      "v_input_6 (VInput)           (None, 9, 4)              36        \n",
      "_________________________________________________________________\n",
      "v_fractal_6 (VFractal)       (None, 5, 1)              89        \n",
      "_________________________________________________________________\n",
      "v_output_7 (VOutput)         (None, 1)                 0         \n",
      "=================================================================\n",
      "Total params: 125\n",
      "Trainable params: 125\n",
      "Non-trainable params: 0\n",
      "_________________________________________________________________\n"
     ]
    }
   ],
   "source": [
    "model_fun = lambda: get_vector_model(dataset_shapes, fractal_depth=1, hidden_layer_units=(4,), inner_hidden_layer_units=(2,), \\\n",
    "    activation='relu', output_activation=None, \\\n",
    "    weight_type=\"unique\", weight_initializer='random_normal', \\\n",
    "    optimizer=keras.optimizers.Adam(), loss=keras.losses.MeanSquaredError(), metrics=[keras.metrics.MeanSquaredError()])\n",
    "\n",
    "test_model(model_fun(), train_dataset, test_dataset, epochs=1, loss_name=\"mean_squared_error\", measure_name=\"val_mean_squared_error\", \\\n",
    "    print_summary=True)"
   ]
  },
  {
   "cell_type": "markdown",
   "id": "related-orlando",
   "metadata": {},
   "source": [
    "### V1(X):U(3)"
   ]
  },
  {
   "cell_type": "code",
   "execution_count": 11,
   "id": "driven-roommate",
   "metadata": {
    "scrolled": true
   },
   "outputs": [
    {
     "data": {
      "image/png": "[encoded data removed]",
      "text/plain": [
       "<Figure size 720x720 with 1 Axes>"
      ]
     },
     "metadata": {
      "needs_background": "light"
     },
     "output_type": "display_data"
    },
    {
     "name": "stdout",
     "output_type": "stream",
     "text": [
      "Elapsed training time: 3.56970 sec\n",
      "Model: \"model_7\"\n",
      "_________________________________________________________________\n",
      "Layer (type)                 Output Shape              Param #   \n",
      "=================================================================\n",
      "input_8 (InputLayer)         [(None, 8)]               0         \n",
      "_________________________________________________________________\n",
      "v_input_12 (VInput)          (None, 9, 3)              27        \n",
      "_________________________________________________________________\n",
      "v_fractal_12 (VFractal)      (None, 4, 1)              97        \n",
      "_________________________________________________________________\n",
      "v_output_13 (VOutput)        (None, 1)                 0         \n",
      "=================================================================\n",
      "Total params: 124\n",
      "Trainable params: 124\n",
      "Non-trainable params: 0\n",
      "_________________________________________________________________\n"
     ]
    }
   ],
   "source": [
    "model_fun = lambda: get_vector_model(dataset_shapes, fractal_depth=1, hidden_layer_units=(3,), inner_hidden_layer_units=(3,), \\\n",
    "    activation='relu', output_activation=None, \\\n",
    "    weight_type=\"unique\", weight_initializer='random_normal', \\\n",
    "    optimizer=keras.optimizers.Adam(), loss=keras.losses.MeanSquaredError(), metrics=[keras.metrics.MeanSquaredError()])\n",
    "\n",
    "test_model(model_fun(), train_dataset, test_dataset, epochs=1, loss_name=\"mean_squared_error\", measure_name=\"val_mean_squared_error\", \\\n",
    "    print_summary=True)"
   ]
  }
 ],
 "metadata": {
  "kernelspec": {
   "display_name": "Python 3",
   "language": "python",
   "name": "python3"
  },
  "language_info": {
   "codemirror_mode": {
    "name": "ipython",
    "version": 3
   },
   "file_extension": ".py",
   "mimetype": "text/x-python",
   "name": "python",
   "nbconvert_exporter": "python",
   "pygments_lexer": "ipython3",
   "version": "3.8.5"
  }
 },
 "nbformat": 4,
 "nbformat_minor": 5
}
