{
 "cells": [
  {
   "cell_type": "code",
   "execution_count": 1,
   "id": "compliant-florist",
   "metadata": {},
   "outputs": [],
   "source": [
    "import matplotlib.pyplot as plt\n",
    "import tensorflow as tf\n",
    "from tensorflow import keras\n",
    "from tensorflow.keras import layers\n",
    "\n",
    "%matplotlib inline\n",
    "plt.rcParams['figure.figsize'] = [10, 10]\n",
    "\n",
    "import os\n",
    "import sys\n",
    "import inspect\n",
    "module_path = os.path.abspath(os.path.join('../../..'))\n",
    "if module_path not in sys.path:\n",
    "    sys.path.append(module_path)\n",
    "\n",
    "from dataset.dataset import get_test_datasets, get_validation_datasets, get_dataset_shapes\n",
    "from experiment.model import get_scalar_model, get_vector_model\n",
    "from experiment.learning import validate_model, validate_model_multiple, test_model, test_model_multiple"
   ]
  },
  {
   "cell_type": "code",
   "execution_count": 3,
   "id": "another-aspect",
   "metadata": {},
   "outputs": [
    {
     "data": {
      "text/plain": [
       "([48], [11])"
      ]
     },
     "execution_count": 3,
     "metadata": {},
     "output_type": "execute_result"
    }
   ],
   "source": [
    "train_dataset, test_dataset = get_test_datasets('sensorless', random_seed=200, feature_range=(0,1))\n",
    "datasets_generator_fun = lambda: get_validation_datasets('sensorless', random_seed=200, feature_range=(0,1))\n",
    "dataset_shapes = get_dataset_shapes('sensorless')\n",
    "\n",
    "dataset_shapes"
   ]
  },
  {
   "cell_type": "code",
   "execution_count": null,
   "id": "green-carroll",
   "metadata": {},
   "outputs": [],
   "source": [
    "model_fun = lambda: get_scalar_model(dataset_shapes, hidden_layer_units=[], activation='relu', output_activation=None, \\\n",
    "    kernel_initializer='random_normal', bias_initializer='random_normal', \\\n",
    "    optimizer=keras.optimizers.RMSprop(), loss=keras.losses.MeanSquaredError(), metrics=[keras.metrics.MeanSquaredError()])\n",
    "\n",
    "validate_model_multiple(model_fun, datasets_generator_fun, epochs=35, num_tries=5, \\\n",
    "    loss_name=\"mean_squared_error\", measure_name=\"val_mean_squared_error\")"
   ]
  }
 ],
 "metadata": {
  "kernelspec": {
   "display_name": "Python 3",
   "language": "python",
   "name": "python3"
  },
  "language_info": {
   "codemirror_mode": {
    "name": "ipython",
    "version": 3
   },
   "file_extension": ".py",
   "mimetype": "text/x-python",
   "name": "python",
   "nbconvert_exporter": "python",
   "pygments_lexer": "ipython3",
   "version": "3.8.5"
  }
 },
 "nbformat": 4,
 "nbformat_minor": 5
}
