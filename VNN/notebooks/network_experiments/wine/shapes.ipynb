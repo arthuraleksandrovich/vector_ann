{
 "cells": [
  {
   "cell_type": "code",
   "execution_count": 1,
   "id": "textile-arrest",
   "metadata": {},
   "outputs": [],
   "source": [
    "import matplotlib.pyplot as plt\n",
    "import tensorflow as tf\n",
    "from tensorflow import keras\n",
    "from tensorflow.keras import layers\n",
    "\n",
    "%matplotlib inline\n",
    "plt.rcParams['figure.figsize'] = [10, 10]\n",
    "\n",
    "import os\n",
    "import sys\n",
    "import inspect\n",
    "module_path = os.path.abspath(os.path.join('../../..'))\n",
    "if module_path not in sys.path:\n",
    "    sys.path.append(module_path)\n",
    "\n",
    "from dataset.dataset import get_test_datasets, get_validation_datasets, get_dataset_shapes\n",
    "from experiment.model import get_scalar_model, get_vector_model\n",
    "from experiment.learning import validate_model, validate_model_multiple, test_model, test_model_multiple"
   ]
  },
  {
   "cell_type": "code",
   "execution_count": 2,
   "id": "painful-taylor",
   "metadata": {},
   "outputs": [
    {
     "data": {
      "text/plain": [
       "([13], [3])"
      ]
     },
     "execution_count": 2,
     "metadata": {},
     "output_type": "execute_result"
    }
   ],
   "source": [
    "train_dataset, test_dataset = get_test_datasets('wine', random_seed=200, feature_range=(0,1))\n",
    "datasets_generator_fun = lambda: get_validation_datasets('wine', random_seed=200, feature_range=(0,1))\n",
    "dataset_shapes = get_dataset_shapes('wine')\n",
    "num_tries = 15\n",
    "\n",
    "dataset_shapes"
   ]
  },
  {
   "cell_type": "code",
   "execution_count": 3,
   "id": "weekly-essence",
   "metadata": {},
   "outputs": [
    {
     "name": "stdout",
     "output_type": "stream",
     "text": [
      "10.50\n",
      "8.00\n",
      "5.50\n"
     ]
    }
   ],
   "source": [
    "# Shape\n",
    "def get_dims(x, i, o):\n",
    "    return i - x * (i - o) / 4\n",
    "\n",
    "for x in range(1,4):\n",
    "    print(f'{get_dims(x, dataset_shapes[0][0], dataset_shapes[1][0]):.2f}')"
   ]
  },
  {
   "cell_type": "markdown",
   "id": "manufactured-hungary",
   "metadata": {},
   "source": [
    "### S(X,X,X)"
   ]
  },
  {
   "cell_type": "code",
   "execution_count": 4,
   "id": "virtual-updating",
   "metadata": {
    "scrolled": true
   },
   "outputs": [
    {
     "data": {
      "image/png": "[encoded data removed]",
      "text/plain": [
       "<Figure size 720x720 with 1 Axes>"
      ]
     },
     "metadata": {
      "needs_background": "light"
     },
     "output_type": "display_data"
    },
    {
     "name": "stdout",
     "output_type": "stream",
     "text": [
      "Elapsed training time: 3.09704 sec\n",
      "Model: \"model\"\n",
      "_________________________________________________________________\n",
      "Layer (type)                 Output Shape              Param #   \n",
      "=================================================================\n",
      "input_1 (InputLayer)         [(None, 13)]              0         \n",
      "_________________________________________________________________\n",
      "dense (Dense)                (None, 11)                154       \n",
      "_________________________________________________________________\n",
      "dense_1 (Dense)              (None, 8)                 96        \n",
      "_________________________________________________________________\n",
      "dense_2 (Dense)              (None, 6)                 54        \n",
      "_________________________________________________________________\n",
      "dense_3 (Dense)              (None, 3)                 21        \n",
      "=================================================================\n",
      "Total params: 325\n",
      "Trainable params: 325\n",
      "Non-trainable params: 0\n",
      "_________________________________________________________________\n"
     ]
    }
   ],
   "source": [
    "model_fun = lambda: get_scalar_model(dataset_shapes, hidden_layer_units=[11,8,6], activation='relu', output_activation=None, \\\n",
    "    kernel_initializer='random_normal', bias_initializer='random_normal', \\\n",
    "    optimizer=keras.optimizers.Adam(), loss=keras.losses.MeanSquaredError(), metrics=[keras.metrics.MeanSquaredError()])\n",
    "\n",
    "test_model(model_fun(), train_dataset, test_dataset, epochs=1, loss_name=\"mean_squared_error\", measure_name=\"val_mean_squared_error\", \\\n",
    "    print_summary=True)"
   ]
  },
  {
   "cell_type": "markdown",
   "id": "serious-porter",
   "metadata": {},
   "source": [
    "### V1(X):U(2)"
   ]
  },
  {
   "cell_type": "code",
   "execution_count": 6,
   "id": "silver-bandwidth",
   "metadata": {
    "scrolled": true
   },
   "outputs": [
    {
     "data": {
      "image/png": "[encoded data removed]",
      "text/plain": [
       "<Figure size 720x720 with 1 Axes>"
      ]
     },
     "metadata": {
      "needs_background": "light"
     },
     "output_type": "display_data"
    },
    {
     "name": "stdout",
     "output_type": "stream",
     "text": [
      "Elapsed training time: 1.07316 sec\n",
      "Model: \"model_2\"\n",
      "_________________________________________________________________\n",
      "Layer (type)                 Output Shape              Param #   \n",
      "=================================================================\n",
      "input_3 (InputLayer)         [(None, 13)]              0         \n",
      "_________________________________________________________________\n",
      "v_input_2 (VInput)           (None, 14, 6)             84        \n",
      "_________________________________________________________________\n",
      "v_fractal_2 (VFractal)       (None, 7, 3)              243       \n",
      "_________________________________________________________________\n",
      "v_output_3 (VOutput)         (None, 3)                 0         \n",
      "=================================================================\n",
      "Total params: 327\n",
      "Trainable params: 327\n",
      "Non-trainable params: 0\n",
      "_________________________________________________________________\n"
     ]
    }
   ],
   "source": [
    "model_fun = lambda: get_vector_model(dataset_shapes, fractal_depth=1, hidden_layer_units=(6,), inner_hidden_layer_units=(2,), \\\n",
    "    activation='relu', output_activation=None, \\\n",
    "    weight_type=\"unique\", weight_initializer='random_normal', \\\n",
    "    optimizer=keras.optimizers.Adam(), loss=keras.losses.MeanSquaredError(), metrics=[keras.metrics.MeanSquaredError()])\n",
    "\n",
    "test_model(model_fun(), train_dataset, test_dataset, epochs=1, loss_name=\"mean_squared_error\", measure_name=\"val_mean_squared_error\", \\\n",
    "    print_summary=True)"
   ]
  },
  {
   "cell_type": "markdown",
   "id": "related-orlando",
   "metadata": {},
   "source": [
    "### V1(X):U(3)"
   ]
  },
  {
   "cell_type": "code",
   "execution_count": 9,
   "id": "driven-roommate",
   "metadata": {
    "scrolled": true
   },
   "outputs": [
    {
     "name": "stdout",
     "output_type": "stream",
     "text": [
      "WARNING:tensorflow:6 out of the last 11 calls to <function Model.make_test_function.<locals>.test_function at 0x000001F2B4368D30> triggered tf.function retracing. Tracing is expensive and the excessive number of tracings could be due to (1) creating @tf.function repeatedly in a loop, (2) passing tensors with different shapes, (3) passing Python objects instead of tensors. For (1), please define your @tf.function outside of the loop. For (2), @tf.function has experimental_relax_shapes=True option that relaxes argument shapes that can avoid unnecessary retracing. For (3), please refer to https://www.tensorflow.org/guide/function#controlling_retracing and https://www.tensorflow.org/api_docs/python/tf/function for  more details.\n"
     ]
    },
    {
     "data": {
      "image/png": "[encoded data removed]",
      "text/plain": [
       "<Figure size 720x720 with 1 Axes>"
      ]
     },
     "metadata": {
      "needs_background": "light"
     },
     "output_type": "display_data"
    },
    {
     "name": "stdout",
     "output_type": "stream",
     "text": [
      "Elapsed training time: 1.15751 sec\n",
      "Model: \"model_5\"\n",
      "_________________________________________________________________\n",
      "Layer (type)                 Output Shape              Param #   \n",
      "=================================================================\n",
      "input_6 (InputLayer)         [(None, 13)]              0         \n",
      "_________________________________________________________________\n",
      "v_input_8 (VInput)           (None, 14, 5)             70        \n",
      "_________________________________________________________________\n",
      "v_fractal_8 (VFractal)       (None, 6, 3)              288       \n",
      "_________________________________________________________________\n",
      "v_output_9 (VOutput)         (None, 3)                 0         \n",
      "=================================================================\n",
      "Total params: 358\n",
      "Trainable params: 358\n",
      "Non-trainable params: 0\n",
      "_________________________________________________________________\n"
     ]
    }
   ],
   "source": [
    "model_fun = lambda: get_vector_model(dataset_shapes, fractal_depth=1, hidden_layer_units=(5,), inner_hidden_layer_units=(3,), \\\n",
    "    activation='relu', output_activation=None, \\\n",
    "    weight_type=\"unique\", weight_initializer='random_normal', \\\n",
    "    optimizer=keras.optimizers.Adam(), loss=keras.losses.MeanSquaredError(), metrics=[keras.metrics.MeanSquaredError()])\n",
    "\n",
    "test_model(model_fun(), train_dataset, test_dataset, epochs=1, loss_name=\"mean_squared_error\", measure_name=\"val_mean_squared_error\", \\\n",
    "    print_summary=True)"
   ]
  },
  {
   "cell_type": "markdown",
   "id": "reserved-reception",
   "metadata": {},
   "source": [
    "### V1(X):U(4)"
   ]
  },
  {
   "cell_type": "code",
   "execution_count": 12,
   "id": "native-sullivan",
   "metadata": {
    "scrolled": true
   },
   "outputs": [
    {
     "name": "stdout",
     "output_type": "stream",
     "text": [
      "WARNING:tensorflow:6 out of the last 11 calls to <function Model.make_test_function.<locals>.test_function at 0x000001F1CBD8B160> triggered tf.function retracing. Tracing is expensive and the excessive number of tracings could be due to (1) creating @tf.function repeatedly in a loop, (2) passing tensors with different shapes, (3) passing Python objects instead of tensors. For (1), please define your @tf.function outside of the loop. For (2), @tf.function has experimental_relax_shapes=True option that relaxes argument shapes that can avoid unnecessary retracing. For (3), please refer to https://www.tensorflow.org/guide/function#controlling_retracing and https://www.tensorflow.org/api_docs/python/tf/function for  more details.\n"
     ]
    },
    {
     "data": {
      "image/png": "[encoded data removed]",
      "text/plain": [
       "<Figure size 720x720 with 1 Axes>"
      ]
     },
     "metadata": {
      "needs_background": "light"
     },
     "output_type": "display_data"
    },
    {
     "name": "stdout",
     "output_type": "stream",
     "text": [
      "Elapsed training time: 0.91556 sec\n",
      "Model: \"model_8\"\n",
      "_________________________________________________________________\n",
      "Layer (type)                 Output Shape              Param #   \n",
      "=================================================================\n",
      "input_9 (InputLayer)         [(None, 13)]              0         \n",
      "_________________________________________________________________\n",
      "v_input_14 (VInput)          (None, 14, 4)             56        \n",
      "_________________________________________________________________\n",
      "v_fractal_14 (VFractal)      (None, 5, 3)              299       \n",
      "_________________________________________________________________\n",
      "v_output_15 (VOutput)        (None, 3)                 0         \n",
      "=================================================================\n",
      "Total params: 355\n",
      "Trainable params: 355\n",
      "Non-trainable params: 0\n",
      "_________________________________________________________________\n"
     ]
    }
   ],
   "source": [
    "model_fun = lambda: get_vector_model(dataset_shapes, fractal_depth=1, hidden_layer_units=(4,), inner_hidden_layer_units=(4,), \\\n",
    "    activation='relu', output_activation=None, \\\n",
    "    weight_type=\"unique\", weight_initializer='random_normal', \\\n",
    "    optimizer=keras.optimizers.Adam(), loss=keras.losses.MeanSquaredError(), metrics=[keras.metrics.MeanSquaredError()])\n",
    "\n",
    "test_model(model_fun(), train_dataset, test_dataset, epochs=1, loss_name=\"mean_squared_error\", measure_name=\"val_mean_squared_error\", \\\n",
    "    print_summary=True)"
   ]
  }
 ],
 "metadata": {
  "kernelspec": {
   "display_name": "Python 3",
   "language": "python",
   "name": "python3"
  },
  "language_info": {
   "codemirror_mode": {
    "name": "ipython",
    "version": 3
   },
   "file_extension": ".py",
   "mimetype": "text/x-python",
   "name": "python",
   "nbconvert_exporter": "python",
   "pygments_lexer": "ipython3",
   "version": "3.8.5"
  }
 },
 "nbformat": 4,
 "nbformat_minor": 5
}
