{
 "cells": [
  {
   "cell_type": "code",
   "execution_count": 1,
   "id": "confidential-paintball",
   "metadata": {},
   "outputs": [],
   "source": [
    "import numpy as np\n",
    "import tensorflow as tf\n",
    "from tensorflow import keras\n",
    "from tensorflow.keras import layers\n",
    "\n",
    "import matplotlib.pyplot as plt\n",
    "%matplotlib inline\n",
    "\n",
    "import os\n",
    "import sys\n",
    "import inspect\n",
    "module_path = os.path.abspath(os.path.join('..'))\n",
    "if module_path not in sys.path:\n",
    "    sys.path.append(module_path)\n",
    "\n",
    "import importlib\n",
    "import dataset.dataset\n",
    "import dataset.loader\n",
    "importlib.reload(dataset.dataset)\n",
    "importlib.reload(dataset.loader)\n",
    "\n",
    "from dataset.dataset import get_test_datasets, get_validation_datasets, get_dataset_shapes\n",
    "from network import vlayers\n",
    "from network import vlayers_conv\n",
    "importlib.reload(vlayers)\n",
    "importlib.reload(vlayers_conv)\n",
    "pass"
   ]
  },
  {
   "cell_type": "code",
   "execution_count": 2,
   "id": "unknown-productivity",
   "metadata": {},
   "outputs": [
    {
     "data": {
      "text/plain": [
       "<tf.Tensor: shape=(2, 5), dtype=int32, numpy=\n",
       "array([[0, 1, 1, 0, 0],\n",
       "       [0, 1, 1, 0, 0]])>"
      ]
     },
     "execution_count": 2,
     "metadata": {},
     "output_type": "execute_result"
    }
   ],
   "source": [
    "test = tf.constant([[0, 1,1,0], [0,1,1,0]])\n",
    "tf.concat([test, [[0], [0]]], axis=-1)"
   ]
  },
  {
   "cell_type": "code",
   "execution_count": 3,
   "id": "thermal-belly",
   "metadata": {},
   "outputs": [],
   "source": [
    "# K-fold validation of model\n",
    "def validate_model(model, datasets_generator):\n",
    "    history1_sum = np.single(0)\n",
    "    history2_sum = np.single(0)\n",
    "    k = 0\n",
    "    for train_dataset, validation_dataset in datasets_generator:\n",
    "        history = model.fit(\n",
    "            train_dataset,\n",
    "            epochs=2,\n",
    "            validation_data=validation_dataset,\n",
    "            verbose=0,\n",
    "            use_multiprocessing = True\n",
    "        )\n",
    "        history1_sum += np.array(history.history['mean_squared_error'], dtype=np.float64)\n",
    "        history2_sum += np.array(history.history['val_mean_squared_error'], dtype=np.float64)\n",
    "        k += 1\n",
    "    \n",
    "    history1_avr = history1_sum / k\n",
    "    history2_avr = history2_sum / k\n",
    "    \n",
    "    x = range(1, len(history1_avr)+1)\n",
    "    plt.plot(x, history1_avr, 'b')\n",
    "    plt.plot(x, history2_avr, 'r--')\n",
    "    plt.legend(['loss', 'validation'])\n",
    "    plt.show() \n",
    "\n",
    "# Testing of model\n",
    "def test_model(model, train_dataset, test_dataset):\n",
    "    history = model.fit(\n",
    "        train_dataset,\n",
    "        epochs=2,\n",
    "        validation_data=test_dataset,\n",
    "        verbose=0,\n",
    "        use_multiprocessing = True\n",
    "    )\n",
    "    # Visualize validation error\n",
    "    y1 = history.history['mean_squared_error']\n",
    "    y2 = history.history['val_mean_squared_error']\n",
    "    x = range(1, len(y1)+1)\n",
    "    plt.plot(x, y1, 'b')\n",
    "    plt.plot(x, y2, 'r--')\n",
    "    plt.legend(['loss', 'validation'])\n",
    "    plt.show() "
   ]
  },
  {
   "cell_type": "code",
   "execution_count": 9,
   "id": "italian-young",
   "metadata": {},
   "outputs": [],
   "source": [
    "# Create models\n",
    "\n",
    "def get_keras_model(dataset_shapes):\n",
    "    input_dims = dataset_shapes[0]\n",
    "    output_dims = dataset_shapes[1]\n",
    "    # Create model\n",
    "    inputs = keras.Input(shape=input_dims)\n",
    "    x = layers.Conv2D(5, 5, \n",
    "                      activation='relu', \n",
    "                      strides=(1,1), \n",
    "                      padding='valid', \n",
    "                      kernel_initializer='random_normal', \n",
    "                      bias_initializer='random_normal'\n",
    "                     )(inputs)\n",
    "    x = layers.ReLU()(x)\n",
    "    x = layers.MaxPool2D(pool_size=(4,4), strides=(4,4), padding='valid')(x)\n",
    "    x = layers.Conv2D(8, 5, \n",
    "                      activation='relu', \n",
    "                      strides=(1,1), \n",
    "                      padding='valid', \n",
    "                      kernel_initializer='random_normal', \n",
    "                      bias_initializer='random_normal'\n",
    "                     )(x)\n",
    "    x = layers.ReLU()(x)\n",
    "    x = layers.Conv2D(10, 2, \n",
    "                      activation='relu', \n",
    "                      strides=(1,1), \n",
    "                      padding='valid', \n",
    "                      kernel_initializer='random_normal', \n",
    "                      bias_initializer='random_normal'\n",
    "                     )(x)\n",
    "    x = layers.Activation('sigmoid')(x)\n",
    "    outputs = layers.Flatten()(x)\n",
    "    \n",
    "    model = keras.Model(inputs=inputs, outputs=outputs)\n",
    "    model.compile(\n",
    "        optimizer=keras.optimizers.SGD(),\n",
    "        loss=keras.losses.MeanSquaredError(),\n",
    "        metrics=[keras.metrics.MeanSquaredError()]\n",
    "    )\n",
    "    \n",
    "    return model\n",
    "                    \n",
    "def get_simple_vector_model(dataset_shapes):\n",
    "    input_dims = dataset_shapes[0]\n",
    "    output_dims = dataset_shapes[1]\n",
    "    # Create model\n",
    "    inputs = keras.Input(shape=input_dims)\n",
    "    x = vlayers_conv.VInputConv((5,5), \n",
    "                      num_filters=5, \n",
    "                      kernel_type=\"convolution\",\n",
    "                      strides=(1,1), \n",
    "                      padding_type='valid'\n",
    "                     )(inputs)\n",
    "    x = vlayers_conv.VConv((4,4), \n",
    "                      kernel_type=\"padding\",\n",
    "                      strides=(4,4), \n",
    "                      padding_type='valid',\n",
    "                      layer_type=\"convolution\",\n",
    "                      activation=\"relu\"\n",
    "                     )(x)\n",
    "    x = vlayers_conv.VConv((5,5), \n",
    "                      num_filters=8, \n",
    "                      kernel_type=\"convolution\",\n",
    "                      strides=(1,1), \n",
    "                      padding_type='valid',\n",
    "                      layer_type=\"pading\",\n",
    "                      pooling=\"max\"\n",
    "                     )(x)\n",
    "    x = vlayers_conv.VConv((2,2), \n",
    "                      num_filters=10, \n",
    "                      kernel_type=\"convolution\",\n",
    "                      strides=(1,1), \n",
    "                      padding_type='valid',\n",
    "                      layer_type=\"convolution\",\n",
    "                      activation=\"relu\"\n",
    "                     )(x)\n",
    "    x = vlayers_conv.VOutputConv(layer_type=\"convolution\", activation=\"relu\")(x)\n",
    "    outputs = layers.Flatten()(x)\n",
    "    \n",
    "    model = keras.Model(inputs=inputs, outputs=outputs)\n",
    "    model.compile(\n",
    "        optimizer=keras.optimizers.SGD(),\n",
    "        loss=keras.losses.MeanSquaredError(),\n",
    "        metrics=[keras.metrics.MeanSquaredError()]\n",
    "    )\n",
    "    \n",
    "    return model\n",
    "\n",
    "def get_fractal_vector_model(dataset_shapes, is_shared=False):\n",
    "    input_dims = dataset_shapes[0]\n",
    "    output_dims = dataset_shapes[1]\n",
    "    # Create model\n",
    "    inputs = keras.Input(shape=input_dims)\n",
    "    x = vlayers_conv.VInputConv((5,5), \n",
    "                      num_filters=5, \n",
    "                      kernel_type=\"convolution\",\n",
    "                      strides=(1,1), \n",
    "                      padding_type='valid'\n",
    "                     )(inputs)\n",
    "    x = vlayers_conv.VConvFractal((4,4), \n",
    "                      kernel_type=\"padding\",\n",
    "                      strides=(4,4), \n",
    "                      padding_type='valid',\n",
    "                      layer_type=\"convolution\",\n",
    "                      activation=\"relu\", \n",
    "                      depth=1, \n",
    "                      shared_inner_nets=True, \n",
    "                      hidden_layer_units=(2,)\n",
    "                     )(x)\n",
    "    x = vlayers_conv.VConv((5,5), \n",
    "                      num_filters=8, \n",
    "                      kernel_type=\"convolution\",\n",
    "                      strides=(1,1), \n",
    "                      padding_type='valid',\n",
    "                      layer_type=\"pooling\",\n",
    "                      pooling=\"max\"\n",
    "                     )(x)\n",
    "    x = vlayers_conv.VConvFractal((2,2), \n",
    "                      num_filters=10, \n",
    "                      kernel_type=\"convolution\",\n",
    "                      strides=(1,1), \n",
    "                      padding_type='valid',\n",
    "                      layer_type=\"convolution\",\n",
    "                      activation=\"relu\", \n",
    "                      depth=1, \n",
    "                      shared_inner_nets=True, \n",
    "                      hidden_layer_units=(2,)\n",
    "                     )(x)\n",
    "    x = vlayers_conv.VOutputConv(layer_type=\"convolution\", activation=\"relu\")(x)\n",
    "    outputs = layers.Flatten()(x)\n",
    "    \n",
    "    model = keras.Model(inputs=inputs, outputs=outputs)\n",
    "    model.compile(\n",
    "        optimizer=keras.optimizers.SGD(),\n",
    "        loss=keras.losses.MeanSquaredError(),\n",
    "        metrics=[keras.metrics.MeanSquaredError()]\n",
    "    )\n",
    "    \n",
    "    return model"
   ]
  },
  {
   "cell_type": "code",
   "execution_count": 5,
   "id": "colored-winter",
   "metadata": {},
   "outputs": [],
   "source": [
    "tr_d, ts_d = get_test_datasets('mnist')\n",
    "dataset_shapes = get_dataset_shapes('mnist')"
   ]
  },
  {
   "cell_type": "code",
   "execution_count": 6,
   "id": "greek-boston",
   "metadata": {
    "scrolled": true
   },
   "outputs": [
    {
     "data": {
      "image/png": "[encoded data removed]",
      "text/plain": [
       "<Figure size 432x288 with 1 Axes>"
      ]
     },
     "metadata": {
      "needs_background": "light"
     },
     "output_type": "display_data"
    },
    {
     "name": "stdout",
     "output_type": "stream",
     "text": [
      "Model: \"model\"\n",
      "_________________________________________________________________\n",
      "Layer (type)                 Output Shape              Param #   \n",
      "=================================================================\n",
      "input_1 (InputLayer)         [(None, 28, 28, 1)]       0         \n",
      "_________________________________________________________________\n",
      "conv2d (Conv2D)              (None, 24, 24, 5)         130       \n",
      "_________________________________________________________________\n",
      "re_lu (ReLU)                 (None, 24, 24, 5)         0         \n",
      "_________________________________________________________________\n",
      "max_pooling2d (MaxPooling2D) (None, 6, 6, 5)           0         \n",
      "_________________________________________________________________\n",
      "conv2d_1 (Conv2D)            (None, 2, 2, 8)           1008      \n",
      "_________________________________________________________________\n",
      "re_lu_1 (ReLU)               (None, 2, 2, 8)           0         \n",
      "_________________________________________________________________\n",
      "conv2d_2 (Conv2D)            (None, 1, 1, 10)          330       \n",
      "_________________________________________________________________\n",
      "activation (Activation)      (None, 1, 1, 10)          0         \n",
      "_________________________________________________________________\n",
      "flatten (Flatten)            (None, 10)                0         \n",
      "=================================================================\n",
      "Total params: 1,468\n",
      "Trainable params: 1,468\n",
      "Non-trainable params: 0\n",
      "_________________________________________________________________\n"
     ]
    }
   ],
   "source": [
    "model = get_keras_model(dataset_shapes)\n",
    "test_model(model, tr_d, ts_d)\n",
    "model.summary()"
   ]
  },
  {
   "cell_type": "code",
   "execution_count": 7,
   "id": "alone-animation",
   "metadata": {
    "scrolled": true
   },
   "outputs": [
    {
     "data": {
      "image/png": "[encoded data removed]",
      "text/plain": [
       "<Figure size 432x288 with 1 Axes>"
      ]
     },
     "metadata": {
      "needs_background": "light"
     },
     "output_type": "display_data"
    },
    {
     "name": "stdout",
     "output_type": "stream",
     "text": [
      "Model: \"model_1\"\n",
      "_________________________________________________________________\n",
      "Layer (type)                 Output Shape              Param #   \n",
      "=================================================================\n",
      "input_2 (InputLayer)         [(None, 28, 28, 1)]       0         \n",
      "_________________________________________________________________\n",
      "v_input_conv (VInputConv)    (None, 26, 24, 24, 5)     130       \n",
      "_________________________________________________________________\n",
      "v_conv (VConv)               (None, 16, 6, 6, 5)       0         \n",
      "_________________________________________________________________\n",
      "v_conv_1 (VConv)             (None, 126, 2, 2, 8)      1008      \n",
      "_________________________________________________________________\n",
      "v_conv_2 (VConv)             (None, 33, 1, 1, 10)      330       \n",
      "_________________________________________________________________\n",
      "v_output_conv (VOutputConv)  (None, 1, 1, 10)          0         \n",
      "_________________________________________________________________\n",
      "flatten_1 (Flatten)          (None, 10)                0         \n",
      "=================================================================\n",
      "Total params: 1,468\n",
      "Trainable params: 1,468\n",
      "Non-trainable params: 0\n",
      "_________________________________________________________________\n"
     ]
    }
   ],
   "source": [
    "model = get_simple_vector_model(dataset_shapes)\n",
    "test_model(model, tr_d, ts_d)\n",
    "model.summary()"
   ]
  },
  {
   "cell_type": "code",
   "execution_count": 10,
   "id": "artistic-thirty",
   "metadata": {
    "scrolled": true
   },
   "outputs": [
    {
     "data": {
      "image/png": "[encoded data removed]",
      "text/plain": [
       "<Figure size 432x288 with 1 Axes>"
      ]
     },
     "metadata": {
      "needs_background": "light"
     },
     "output_type": "display_data"
    },
    {
     "name": "stdout",
     "output_type": "stream",
     "text": [
      "Model: \"model_3\"\n",
      "_________________________________________________________________\n",
      "Layer (type)                 Output Shape              Param #   \n",
      "=================================================================\n",
      "input_4 (InputLayer)         [(None, 28, 28, 1)]       0         \n",
      "_________________________________________________________________\n",
      "v_input_conv_2 (VInputConv)  (None, 26, 24, 24, 5)     130       \n",
      "_________________________________________________________________\n",
      "v_conv_fractal_2 (VConvFract (None, 16, 6, 6, 5)       100       \n",
      "_________________________________________________________________\n",
      "v_conv_4 (VConv)             (None, 126, 2, 2, 8)      1008      \n",
      "_________________________________________________________________\n",
      "v_conv_fractal_3 (VConvFract (None, 33, 1, 1, 10)      681       \n",
      "_________________________________________________________________\n",
      "v_output_conv_2 (VOutputConv (None, 1, 1, 10)          0         \n",
      "_________________________________________________________________\n",
      "flatten_3 (Flatten)          (None, 10)                0         \n",
      "=================================================================\n",
      "Total params: 1,919\n",
      "Trainable params: 1,919\n",
      "Non-trainable params: 0\n",
      "_________________________________________________________________\n"
     ]
    }
   ],
   "source": [
    "model = get_fractal_vector_model(dataset_shapes)\n",
    "test_model(model, tr_d, ts_d)\n",
    "model.summary()"
   ]
  }
 ],
 "metadata": {
  "kernelspec": {
   "display_name": "Python 3",
   "language": "python",
   "name": "python3"
  },
  "language_info": {
   "codemirror_mode": {
    "name": "ipython",
    "version": 3
   },
   "file_extension": ".py",
   "mimetype": "text/x-python",
   "name": "python",
   "nbconvert_exporter": "python",
   "pygments_lexer": "ipython3",
   "version": "3.8.5"
  }
 },
 "nbformat": 4,
 "nbformat_minor": 5
}
